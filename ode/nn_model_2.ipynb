{
 "cells": [
  {
   "cell_type": "markdown",
   "id": "c5a7e129",
   "metadata": {},
   "source": [
    "# Modularized NN Model for XOR gate"
   ]
  },
  {
   "cell_type": "code",
   "execution_count": 2,
   "id": "5713fd87",
   "metadata": {},
   "outputs": [],
   "source": [
    "import tensorflow as tf\n",
    "import numpy as np\n",
    "import matplotlib.pyplot as plt"
   ]
  },
  {
   "cell_type": "markdown",
   "id": "5da30a2a",
   "metadata": {},
   "source": [
    "## Learning XOR Logic Gate"
   ]
  },
  {
   "cell_type": "code",
   "execution_count": 3,
   "id": "63b75f4e",
   "metadata": {},
   "outputs": [],
   "source": [
    "# data for XOR gate\n",
    "X = np.array([[0,0,1,1], [0,1,0,1]], dtype=np.float32)\n",
    "y = np.array([0,1,1,0], dtype=np.float32)"
   ]
  },
  {
   "cell_type": "code",
   "execution_count": 4,
   "id": "40203dfb",
   "metadata": {},
   "outputs": [
    {
     "data": {
      "text/plain": [
       "(2, 4)"
      ]
     },
     "execution_count": 4,
     "metadata": {},
     "output_type": "execute_result"
    }
   ],
   "source": [
    "X.shape"
   ]
  },
  {
   "cell_type": "code",
   "execution_count": 17,
   "id": "3345b61a",
   "metadata": {
    "code_folding": []
   },
   "outputs": [
    {
     "name": "stdout",
     "output_type": "stream",
     "text": [
      "Building NN model\n",
      "\n",
      "epoch:    0 \tloss: 0.36601 \t accuracy: 0.5\n",
      "epoch:   10 \tloss: 0.31282 \t accuracy: 0.5\n",
      "epoch:   20 \tloss: 0.25691 \t accuracy: 0.75\n",
      "epoch:   30 \tloss: 0.21082 \t accuracy: 0.75\n",
      "epoch:   40 \tloss: 0.18708 \t accuracy: 0.75\n",
      "epoch:   50 \tloss: 0.13555 \t accuracy: 0.75\n",
      "epoch:   60 \tloss: 0.01032 \t accuracy: 1.0\n",
      "epoch:   70 \tloss: 0.00707 \t accuracy: 1.0\n",
      "epoch:   80 \tloss: 0.00533 \t accuracy: 1.0\n",
      "epoch:   90 \tloss: 0.00423 \t accuracy: 1.0\n",
      "\n",
      "final\n",
      "epoch:   99 \tloss: 0.00355\n",
      "y_pred = [[0.04220021 0.93504685 0.9465408  0.07306926]]\n",
      "2\n"
     ]
    },
    {
     "data": {
      "text/plain": [
       "[<matplotlib.lines.Line2D at 0x1f04cadafd0>]"
      ]
     },
     "execution_count": 17,
     "metadata": {},
     "output_type": "execute_result"
    },
    {
     "data": {
      "image/png": "[encoded data removed]",
      "text/plain": [
       "<Figure size 432x288 with 1 Axes>"
      ]
     },
     "metadata": {
      "needs_background": "light"
     },
     "output_type": "display_data"
    }
   ],
   "source": [
    "# hyperparameters\n",
    "lr = 10   # learning rate\n",
    "arch = [10] # architecture\n",
    "epochs = 100\n",
    "loss = []\n",
    "w_list = []\n",
    "\n",
    "model = Model(arch)\n",
    "\n",
    "# train model\n",
    "for epoch in range(epochs):\n",
    "\n",
    "    with tf.GradientTape() as g:\n",
    "        ls, y_pred = model.loss(model(X), y)\n",
    "\n",
    "    grads = g.gradient(ls, model.Variables)\n",
    "    \n",
    "    w_list.append(model.Variables[0][0][0])\n",
    "    loss.append(ls)\n",
    "    \n",
    "    model.Variables = [v.assign_sub(delta * lr) for v, delta in zip(model.Variables, grads)]\n",
    "    \n",
    "    if epoch%10 == 0:\n",
    "        print(f\"epoch: {epoch:4d} \\tloss: {ls:.5f} \\t accuracy: {model.accuracy(y_pred, y)}\")\n",
    "#         print(f\"y_pred = {y_pred} \\tepoch: {epoch:4d} \\tloss: {ls:.5f}\")\n",
    "       \n",
    "    loss.append(ls)\n",
    "    \n",
    "print('\\nfinal')\n",
    "print(f\"epoch: {epoch:4d} \\tloss: {ls:.5f}\")\n",
    "print(f\"y_pred = {y_pred}\")\n",
    "print(len(model.weights))\n",
    "plt.plot(loss)"
   ]
  },
  {
   "cell_type": "code",
   "execution_count": 16,
   "id": "4c0b0fb8",
   "metadata": {
    "code_folding": []
   },
   "outputs": [],
   "source": [
    "class Model:\n",
    "    def __init__(self, *arg):\n",
    "        self.arch = arg[0]\n",
    "        self.built = False # the model is called for first time\n",
    "        \n",
    "    \n",
    "    \"\"\"\n",
    "    Init weight and biases for various layers of nodes\n",
    "    args = no. of feature of X (in this case, 2)\"\"\"\n",
    "    def build(self, input_len):\n",
    "        print('Building NN model\\n')\n",
    "        w_init = tf.random.normal # alias for tf.random.normal\n",
    "        b_init = tf.zeros         # alias for tf.zeros\n",
    "        \n",
    "        self.weights = []\n",
    "        self.biases = []\n",
    "        \n",
    "        for dim in self.arch:\n",
    "            self.weights.append(tf.Variable(\n",
    "                w_init(shape=(dim, input_len))))\n",
    "            self.biases.append(tf.Variable(\n",
    "                b_init(shape=(dim, 1)))) ## 1 coz not a matrix\n",
    "            \n",
    "            input_len = dim\n",
    "        \n",
    "        # init wt and bias for final output layer [1 neuron]\n",
    "        self.weights.append(tf.Variable(\n",
    "            w_init(shape=(1, dim))))\n",
    "        self.biases.append(tf.Variable(\n",
    "            b_init(shape=(1,)))) # 1 coz not a matrix\n",
    "        \n",
    "        self.Variables = self.weights + self.biases\n",
    "        \n",
    "        ## change w_init to b_init for biases later\n",
    "        \n",
    "    \"\"\"feedfwd process\n",
    "    recieve X.shape = (2,4) -> 2 features, 4 samples\n",
    "    return  y.shape = (1,4) -> 1 output, 4 samples\n",
    "    \"\"\"\n",
    "    def __call__(self, X):\n",
    "        if self.built == False:\n",
    "            self.build(X.shape[0])\n",
    "            self.built = True\n",
    "        \n",
    "        for w,b in zip(self.weights, self.biases):\n",
    "            z = tf.matmul(w, X) + b\n",
    "            a = tf.math.sigmoid(z)\n",
    "#             a = tf.math.maximum(0,z)\n",
    "            X = a\n",
    "        \n",
    "        return a\n",
    "        \n",
    "    \n",
    "    def loss(self, y_pred, y_true):\n",
    "        return tf.reduce_sum((y_pred - y_true)**2) / 4, y_pred \n",
    "    \n",
    "    def accuracy(self, y_pred, y_true):\n",
    "        # round off the prediction probabilities \n",
    "        new = tf.round(y_pred)\n",
    "        # tf.equal() gives bool list for corresponding elements \n",
    "        # np.mean() calculates the mean of the bool list and gives accuracy in range 0-1\n",
    "        return np.mean(tf.equal(y_true, new))\n",
    "    \n",
    "    def predict(self, X_input):\n",
    "        output = model(X_input)\n",
    "        new = tf.round(output)\n",
    "        tf.print(new)"
   ]
  },
  {
   "cell_type": "code",
   "execution_count": 9,
   "id": "375629c1",
   "metadata": {},
   "outputs": [
    {
     "name": "stdout",
     "output_type": "stream",
     "text": [
      "0 0  [[0]]\n",
      "0 1  [[1]]\n",
      "1 0  [[1]]\n",
      "1 1  [[0]]\n"
     ]
    }
   ],
   "source": [
    "for i in range(2):\n",
    "    for j in range(2):\n",
    "        print(i,j, end='  ')\n",
    "        model.predict([[i], [j]])\n",
    "        "
   ]
  },
  {
   "cell_type": "markdown",
   "id": "ef4730b9",
   "metadata": {},
   "source": [
    "Check nn_model_2.ipynb for shapes of weight, bias and input matrices for each layers </br>\n",
    "Also, check NN diary for rough notes"
   ]
  },
  {
   "cell_type": "code",
   "execution_count": null,
   "id": "b12d7108",
   "metadata": {},
   "outputs": [],
   "source": []
  },
  {
   "cell_type": "code",
   "execution_count": null,
   "id": "c63606fd",
   "metadata": {},
   "outputs": [],
   "source": []
  },
  {
   "cell_type": "code",
   "execution_count": null,
   "id": "de4ce08f",
   "metadata": {},
   "outputs": [],
   "source": []
  },
  {
   "cell_type": "code",
   "execution_count": null,
   "id": "5eca8040",
   "metadata": {},
   "outputs": [],
   "source": []
  },
  {
   "cell_type": "code",
   "execution_count": 178,
   "id": "46c0c12c",
   "metadata": {},
   "outputs": [
    {
     "data": {
      "text/plain": [
       "['x', 'y']"
      ]
     },
     "execution_count": 178,
     "metadata": {},
     "output_type": "execute_result"
    }
   ],
   "source": [
    "list1 = ['x', 'y']\n",
    "list1"
   ]
  },
  {
   "cell_type": "code",
   "execution_count": 181,
   "id": "757b1db1",
   "metadata": {},
   "outputs": [
    {
     "data": {
      "text/plain": [
       "[<tf.Tensor: shape=(), dtype=float32, numpy=2.0>,\n",
       " <tf.Tensor: shape=(), dtype=float32, numpy=7.0>]"
      ]
     },
     "execution_count": 181,
     "metadata": {},
     "output_type": "execute_result"
    }
   ],
   "source": [
    "list2 = [x, y]\n",
    "list2"
   ]
  },
  {
   "cell_type": "code",
   "execution_count": 190,
   "id": "0e674f06",
   "metadata": {},
   "outputs": [
    {
     "name": "stdout",
     "output_type": "stream",
     "text": [
      "12\n",
      "None\n"
     ]
    }
   ],
   "source": [
    "x = tf.constant(2.)\n",
    "y = tf.constant(7.)\n",
    "with tf.GradientTape(persistent=True) as g:\n",
    "    g.watch(x)\n",
    "    z = x**3 + y**4\n",
    "dz_dx = g.gradient(z,x)\n",
    "dz_dy = g.gradient(z,y)\n",
    "tf.print(dz_dx)\n",
    "tf.print(dz_dy)"
   ]
  },
  {
   "cell_type": "code",
   "execution_count": 169,
   "id": "25ad87e0",
   "metadata": {},
   "outputs": [
    {
     "name": "stdout",
     "output_type": "stream",
     "text": [
      "<tf.Variable 'Variable:0' shape=(10, 2) dtype=float32, numpy=\n",
      "array([[ 0.672416  ,  0.11648333],\n",
      "       [ 0.3264731 , -1.103052  ],\n",
      "       [-0.29433477,  0.6968723 ],\n",
      "       [ 0.7540589 ,  0.18316284],\n",
      "       [-0.5749502 ,  0.10074586],\n",
      "       [ 0.6499909 , -1.1503396 ],\n",
      "       [-0.5097219 ,  0.8965029 ],\n",
      "       [-1.0278198 ,  0.05046963],\n",
      "       [ 0.43077514,  0.59710574],\n",
      "       [ 2.0213406 , -0.10093223]], dtype=float32)>\n"
     ]
    }
   ],
   "source": [
    "j = 0\n",
    "for i in model.Variable:\n",
    "    if j == 0:\n",
    "        print(i)\n",
    "    j+=1"
   ]
  },
  {
   "cell_type": "code",
   "execution_count": 199,
   "id": "5c796624",
   "metadata": {},
   "outputs": [
    {
     "data": {
      "text/plain": [
       "tensorflow.python.framework.ops.EagerTensor"
      ]
     },
     "execution_count": 199,
     "metadata": {},
     "output_type": "execute_result"
    }
   ],
   "source": [
    "a = np.array([1,2,3])\n",
    "b = tf.constant(5)\n",
    "type(b)"
   ]
  },
  {
   "cell_type": "code",
   "execution_count": 256,
   "id": "5077105a",
   "metadata": {},
   "outputs": [
    {
     "name": "stdout",
     "output_type": "stream",
     "text": [
      "0\r\n"
     ]
    }
   ],
   "source": [
    "tf.print(tf.round(0.50))"
   ]
  },
  {
   "cell_type": "code",
   "execution_count": 261,
   "id": "aab5a61a",
   "metadata": {},
   "outputs": [
    {
     "data": {
      "text/plain": [
       "2.0"
      ]
     },
     "execution_count": 261,
     "metadata": {},
     "output_type": "execute_result"
    }
   ],
   "source": [
    "np.round(2.5)"
   ]
  },
  {
   "cell_type": "code",
   "execution_count": 277,
   "id": "5f688b5b",
   "metadata": {},
   "outputs": [
    {
     "name": "stdout",
     "output_type": "stream",
     "text": [
      "tf.Tensor([False  True  True  True False], shape=(5,), dtype=bool)\n"
     ]
    }
   ],
   "source": [
    "print(tf.equal([1,2,3,4,5], [3,2,3,4,1]))"
   ]
  },
  {
   "cell_type": "code",
   "execution_count": 6,
   "id": "be0756ef",
   "metadata": {},
   "outputs": [],
   "source": [
    "def func(x):\n",
    "    print(x)"
   ]
  },
  {
   "cell_type": "code",
   "execution_count": 8,
   "id": "e1e32169",
   "metadata": {},
   "outputs": [
    {
     "name": "stdout",
     "output_type": "stream",
     "text": [
      "[10, 20, 30]\n"
     ]
    }
   ],
   "source": [
    "func([10,20,30])"
   ]
  },
  {
   "cell_type": "code",
   "execution_count": 10,
   "id": "1b0fde68",
   "metadata": {},
   "outputs": [
    {
     "data": {
      "text/plain": [
       "<tf.Tensor: shape=(), dtype=int32, numpy=0>"
      ]
     },
     "execution_count": 10,
     "metadata": {},
     "output_type": "execute_result"
    }
   ],
   "source": [
    "tf.math.maximum(0,-5)"
   ]
  }
 ],
 "metadata": {
  "kernelspec": {
   "display_name": "Python 3 (ipykernel)",
   "language": "python",
   "name": "python3"
  },
  "language_info": {
   "codemirror_mode": {
    "name": "ipython",
    "version": 3
   },
   "file_extension": ".py",
   "mimetype": "text/x-python",
   "name": "python",
   "nbconvert_exporter": "python",
   "pygments_lexer": "ipython3",
   "version": "3.9.7"
  }
 },
 "nbformat": 4,
 "nbformat_minor": 5
}
