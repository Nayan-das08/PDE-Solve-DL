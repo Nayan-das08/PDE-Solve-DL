{
 "cells": [
  {
   "cell_type": "code",
   "execution_count": 10,
   "id": "5713fd87",
   "metadata": {},
   "outputs": [],
   "source": [
    "import tensorflow as tf\n",
    "import numpy as np\n",
    "import pandas as pd "
   ]
  },
  {
   "cell_type": "markdown",
   "id": "5da30a2a",
   "metadata": {},
   "source": [
    "# Learning XOR Logic Gate"
   ]
  },
  {
   "cell_type": "code",
   "execution_count": 84,
   "id": "63b75f4e",
   "metadata": {},
   "outputs": [
    {
     "data": {
      "text/plain": [
       "array([0., 1., 1., 0.], dtype=float32)"
      ]
     },
     "execution_count": 84,
     "metadata": {},
     "output_type": "execute_result"
    }
   ],
   "source": [
    "# data for XOR gate\n",
    "X = np.array([[0,0,1,1], [0,1,0,1]], dtype=np.float32)\n",
    "y = np.array([0,1,1,0], dtype=np.float32)\n",
    "y\n",
    "# X = np.array([[0,0], [0,1], [1,0], [1,1]], dtype=np.float32)\n",
    "# y.reshape(1,-1)"
   ]
  },
  {
   "cell_type": "code",
   "execution_count": 50,
   "id": "9b4fdc4d",
   "metadata": {},
   "outputs": [
    {
     "data": {
      "text/plain": [
       "array([[0., 0., 1., 1.],\n",
       "       [0., 1., 0., 1.]], dtype=float32)"
      ]
     },
     "execution_count": 50,
     "metadata": {},
     "output_type": "execute_result"
    }
   ],
   "source": [
    "X"
   ]
  },
  {
   "cell_type": "code",
   "execution_count": 85,
   "id": "36ea441f",
   "metadata": {},
   "outputs": [
    {
     "data": {
      "text/plain": [
       "(4,)"
      ]
     },
     "execution_count": 85,
     "metadata": {},
     "output_type": "execute_result"
    }
   ],
   "source": [
    "y.shape"
   ]
  },
  {
   "cell_type": "code",
   "execution_count": 68,
   "id": "f34e28f7",
   "metadata": {},
   "outputs": [
    {
     "data": {
      "text/plain": [
       "(2, 4)"
      ]
     },
     "execution_count": 68,
     "metadata": {},
     "output_type": "execute_result"
    }
   ],
   "source": [
    "X.shape"
   ]
  },
  {
   "cell_type": "code",
   "execution_count": 99,
   "id": "92f4b094",
   "metadata": {},
   "outputs": [
    {
     "name": "stdout",
     "output_type": "stream",
     "text": [
      "layer1_w.shape     = (2, 2)\n",
      "X.shape            = (2, 4)\n",
      "a1.shape           = (2, 4)\n",
      "layer1_bias.shape  = (2, 1)\n",
      "\n",
      "layer2_w.shape     = (6, 2)\n",
      "a1.shape           = (2, 4)\n",
      "a2.shape           = (6, 4)\n",
      "layer2_bias.shape  = (6, 1)\n",
      "\n",
      "layer3_w.shape     = (1, 6)\n",
      "a2.shape           = (6, 4)\n",
      "a3.shape           = (1, 4)\n",
      "layer3_bias.shape  = (1,)\n",
      "\n"
     ]
    }
   ],
   "source": [
    "# hyperparameters\n",
    "lr = None   # learning rate\n",
    "arch = [2,6] # architecture\n",
    "epochs = 1\n",
    "\n",
    "model = Model(arch)\n",
    "\n",
    "# train model\n",
    "for epoch in range(epochs):\n",
    "    # creating a feedforward model\n",
    "    y_pred = model(X)\n",
    "\n",
    "#     with tf.GradientTape() as g:\n",
    "#         loss = model.loss(y_pred, y_true=y)\n",
    "    \n",
    "#     grad = g.gradient(loss, model.Variable)\n",
    "#     print(grad)\n",
    "    \n",
    "    \n",
    "#     print(f\"epoch: {epoch:4d} \\tloss: {loss:.4f}\")"
   ]
  },
  {
   "cell_type": "code",
   "execution_count": 97,
   "id": "4c0b0fb8",
   "metadata": {
    "code_folding": [
     1
    ]
   },
   "outputs": [],
   "source": [
    "class Model:\n",
    "    def __init__(self, arch):\n",
    "        self.arch = arch\n",
    "        self.built = False # the model is called for first time\n",
    "        \n",
    "    \n",
    "    \"\"\"\n",
    "    Init weight and biases for various layers of nodes\n",
    "    args = no. of feature of X (in this case, 2)\"\"\"\n",
    "    def build(self, features_len):\n",
    "        w_init = tf.random.normal # alias for tf.random.normal\n",
    "        b_init = tf.zeros         # alias for tf.zeros\n",
    "        \n",
    "        # init wt and bias for l1 [10 neurons]\n",
    "        self.layer1_w = tf.Variable(\n",
    "            w_init(shape=(self.arch[0], features_len)))\n",
    "        self.layer1_bias = tf.Variable(\n",
    "            w_init(shape=(self.arch[0], 1))) # 1 coz not a matrix\n",
    "        \n",
    "        # init wt and bias for l2 [10 neurons]\n",
    "        self.layer2_w = tf.Variable(\n",
    "            w_init(shape=(self.arch[1], self.arch[0])))\n",
    "        self.layer2_bias = tf.Variable(\n",
    "            w_init(shape=(self.arch[1], 1))) # 1 coz not a matrix\n",
    "        \n",
    "        # init wt and bias for l3 [1 neuron]\n",
    "        self.layer3_w = tf.Variable(\n",
    "            w_init(shape=(1, self.arch[1])))\n",
    "        self.layer3_bias = tf.Variable(\n",
    "            w_init(shape=(1,))) # 1 coz not a matrix\n",
    "        \n",
    "        self.Variable = [self.layer1_w, self.layer2_w, self.layer3_w, \n",
    "                         self.layer1_bias, self.layer2_bias, self.layer3_bias]\n",
    "\n",
    "        \n",
    "    \"\"\"feedfwd process\n",
    "    recieve X.shape = (2,4) -> 2 features, 4 samples\n",
    "    return  y.shape = (1,4) -> 1 output, 4 samples\n",
    "    \"\"\"\n",
    "    def __call__(self, X):\n",
    "        if self.built == False:\n",
    "            self.build(X.shape[0])\n",
    "            self.built = True\n",
    "        \n",
    "        # layer 1 feedfwd\n",
    "        print(f\"layer1_w.shape     = {self.layer1_w.shape}\")\n",
    "        print(f\"X.shape            = {X.shape}\")\n",
    "        z1 = tf.matmul(self.layer1_w, X) + self.layer1_bias\n",
    "        a1 = tf.math.sigmoid(z1)\n",
    "        print(f\"a1.shape           = {a1.shape}\")\n",
    "        print(f\"layer1_bias.shape  = {self.layer1_bias.shape}\\n\")\n",
    "        \n",
    "        # layer 2 feedfwd\n",
    "        print(f\"layer2_w.shape     = {self.layer2_w.shape}\")\n",
    "        print(f\"a1.shape           = {a1.shape}\")\n",
    "        z2 = tf.matmul(self.layer2_w, a1) + self.layer2_bias\n",
    "        a2 = tf.math.sigmoid(z2)\n",
    "        print(f\"a2.shape           = {a2.shape}\")\n",
    "        print(f\"layer2_bias.shape  = {self.layer2_bias.shape}\\n\")\n",
    "        \n",
    "        # layer 3 feedfwd\n",
    "        print(f\"layer3_w.shape     = {self.layer3_w.shape}\")\n",
    "        print(f\"a2.shape           = {a2.shape}\")\n",
    "        z3 = tf.matmul(self.layer3_w, a2) + self.layer3_bias\n",
    "        a3 = tf.math.sigmoid(z3)\n",
    "        print(f\"a3.shape           = {a3.shape}\")\n",
    "        print(f\"layer3_bias.shape  = {self.layer3_bias.shape}\\n\")\n",
    "        return a3\n",
    "        \n",
    "        \n",
    "    \n",
    "    def loss(self, y_pred, y_true):\n",
    "        return tf.reduce_sum((y_pred - y_true)**2) / 4 # no. of rows\n",
    "    "
   ]
  },
  {
   "cell_type": "code",
   "execution_count": 59,
   "id": "c359a484",
   "metadata": {
    "scrolled": true
   },
   "outputs": [
    {
     "name": "stdout",
     "output_type": "stream",
     "text": [
      "[[4 3]\n",
      " [1 1]\n",
      " [1 1]]\r\n"
     ]
    }
   ],
   "source": [
    "a = tf.random.uniform(shape=(3,2), minval=1, maxval=5, dtype=tf.int32)\n",
    "tf.print(a)"
   ]
  },
  {
   "cell_type": "code",
   "execution_count": 60,
   "id": "46c0c12c",
   "metadata": {},
   "outputs": [
    {
     "name": "stdout",
     "output_type": "stream",
     "text": [
      "[[2 2 2 2]\n",
      " [1 4 4 1]]\r\n"
     ]
    }
   ],
   "source": [
    "b = tf.random.uniform(shape=(2,4), minval=1, maxval=5, dtype=tf.int32)\n",
    "tf.print(b)"
   ]
  },
  {
   "cell_type": "code",
   "execution_count": 61,
   "id": "12e80033",
   "metadata": {},
   "outputs": [
    {
     "data": {
      "text/plain": [
       "<tf.Tensor: shape=(3, 4), dtype=int32, numpy=\n",
       "array([[11, 20, 20, 11],\n",
       "       [ 3,  6,  6,  3],\n",
       "       [ 3,  6,  6,  3]])>"
      ]
     },
     "execution_count": 61,
     "metadata": {},
     "output_type": "execute_result"
    }
   ],
   "source": [
    "tf.matmul(a,b)"
   ]
  },
  {
   "cell_type": "code",
   "execution_count": null,
   "id": "c63606fd",
   "metadata": {},
   "outputs": [],
   "source": []
  },
  {
   "cell_type": "code",
   "execution_count": null,
   "id": "de4ce08f",
   "metadata": {},
   "outputs": [],
   "source": []
  },
  {
   "cell_type": "code",
   "execution_count": null,
   "id": "5eca8040",
   "metadata": {},
   "outputs": [],
   "source": []
  }
 ],
 "metadata": {
  "kernelspec": {
   "display_name": "Python 3 (ipykernel)",
   "language": "python",
   "name": "python3"
  },
  "language_info": {
   "codemirror_mode": {
    "name": "ipython",
    "version": 3
   },
   "file_extension": ".py",
   "mimetype": "text/x-python",
   "name": "python",
   "nbconvert_exporter": "python",
   "pygments_lexer": "ipython3",
   "version": "3.9.7"
  }
 },
 "nbformat": 4,
 "nbformat_minor": 5
}
